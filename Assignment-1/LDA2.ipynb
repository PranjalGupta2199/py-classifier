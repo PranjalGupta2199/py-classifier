{
 "cells": [
  {
   "cell_type": "code",
   "execution_count": 0,
   "metadata": {
    "colab": {},
    "colab_type": "code",
    "id": "g2FveUBWZqoF"
   },
   "outputs": [],
   "source": [
    "import pandas as pd"
   ]
  },
  {
   "cell_type": "code",
   "execution_count": 0,
   "metadata": {
    "colab": {},
    "colab_type": "code",
    "id": "_0_0ck23hnhH"
   },
   "outputs": [],
   "source": [
    "df=pd.read_csv('a1_d2.csv')"
   ]
  },
  {
   "cell_type": "code",
   "execution_count": 0,
   "metadata": {
    "colab": {},
    "colab_type": "code",
    "id": "eUOgVO6Gn1_N"
   },
   "outputs": [],
   "source": [
    "#Separate class 1 and class2 points\n",
    "class1=df[df.iloc[:,3]==1]\n",
    "class2=df[df.iloc[:,3]==0]\n",
    "class1=class1.iloc[:,[0,1,2]]\n",
    "class2=class2.iloc[:,[0,1,2]]\n",
    "mean1=class1.mean(axis=0)\n",
    "mean2=class2.mean(axis=0)\n",
    "sub1=class1-mean1\n",
    "sub2=class2-mean2"
   ]
  },
  {
   "cell_type": "code",
   "execution_count": 0,
   "metadata": {
    "colab": {},
    "colab_type": "code",
    "id": "9EDeeL80Eptl"
   },
   "outputs": [],
   "source": [
    "import numpy as np\n",
    "sw=np.dot(sub1.T,sub1) + np.dot(sub2.T,sub2) #Calculate covariance matrix\n",
    "sw=np.linalg.inv(sw)\n",
    "#Find the projection vector direction- (covariance inverse)*(mean1-mean2)\n",
    "w=np.dot(sw,mean2-mean1)"
   ]
  },
  {
   "cell_type": "code",
   "execution_count": 0,
   "metadata": {
    "colab": {},
    "colab_type": "code",
    "id": "GSquOidpHVS6"
   },
   "outputs": [],
   "source": [
    "projection_1=np.dot(w,class1.T)\n",
    "projection_2=np.dot(w,class2.T)"
   ]
  },
  {
   "cell_type": "code",
   "execution_count": 34,
   "metadata": {
    "colab": {
     "base_uri": "https://localhost:8080/",
     "height": 265
    },
    "colab_type": "code",
    "executionInfo": {
     "elapsed": 1872,
     "status": "ok",
     "timestamp": 1587995466934,
     "user": {
      "displayName": "Simran sandhu",
      "photoUrl": "",
      "userId": "15531787810630485221"
     },
     "user_tz": -330
    },
    "id": "0ys3KqW8IyIr",
    "outputId": "d0f372b6-7147-4b84-e1bd-af93f954aa54"
   },
   "outputs": [
    {
     "data": {
      "image/png": "[encoded data removed]",
      "text/plain": [
       "<Figure size 432x288 with 1 Axes>"
      ]
     },
     "metadata": {
      "needs_background": "light",
      "tags": []
     },
     "output_type": "display_data"
    }
   ],
   "source": [
    "import matplotlib.pyplot as plt\n",
    "import scipy.stats as stats\n",
    "projection_1.sort()\n",
    "projection_2.sort()\n",
    "pdf1 = stats.norm.pdf(projection_1, np.mean(projection_1), np.std(projection_1)) \n",
    "pdf2 = stats.norm.pdf(projection_2, np.mean(projection_2), np.std(projection_2))\n",
    "plt.plot(projection_1, pdf1)\n",
    "plt.plot(projection_2, pdf2) \n",
    "plt.show()"
   ]
  },
  {
   "cell_type": "code",
   "execution_count": 0,
   "metadata": {
    "colab": {},
    "colab_type": "code",
    "id": "bJJ_-FHeJp9l"
   },
   "outputs": [],
   "source": [
    "def solve(m1, m2, std1, std2):\n",
    "  #Calculate roots of 2 normal distributions\n",
    "  a = 1/(2*std1**2)-1/(2*std2**2)\n",
    "  b = m2/(std2**2)-m1/(std1**2)\n",
    "  c = m1**2/(2*std1**2)-m2**2/(2*std2**2)-np.log(std2/std1)\n",
    "  return np.roots([a,b,c])"
   ]
  },
  {
   "cell_type": "code",
   "execution_count": 0,
   "metadata": {
    "colab": {},
    "colab_type": "code",
    "id": "CJngrN4WzM3y"
   },
   "outputs": [],
   "source": [
    "thresholdpoint=solve(np.mean(projection_1),np.mean(projection_2),np.std(projection_1),np.std(projection_2))"
   ]
  },
  {
   "cell_type": "code",
   "execution_count": 0,
   "metadata": {
    "colab": {},
    "colab_type": "code",
    "id": "j5g5OSSVC71n"
   },
   "outputs": [],
   "source": [
    "import math\n",
    "projection=np.dot(w,df.iloc[:,[0,1,2]].T)\n",
    "array=(projection<thresholdpoint[1]).astype(int)"
   ]
  },
  {
   "cell_type": "code",
   "execution_count": 0,
   "metadata": {
    "colab": {},
    "colab_type": "code",
    "id": "ZMx9MLJwINQZ"
   },
   "outputs": [],
   "source": [
    "df['predicted_output']=array"
   ]
  },
  {
   "cell_type": "code",
   "execution_count": 0,
   "metadata": {
    "colab": {},
    "colab_type": "code",
    "id": "qz2ZngohLnrs"
   },
   "outputs": [],
   "source": [
    "def compute_tp_tn_fn_fp(y_act,y_pred):\n",
    "  tp=0 # tp: true positive\n",
    "  fp=0 # fp: false positive\n",
    "  fn=0 # fn: false negative\n",
    "  tn=0 # tn: true negative\n",
    "  size=len(y_act)\n",
    "  for i in range(size):\n",
    "    if((y_act[i]==1)&(y_pred[i]==1)):\n",
    "        tp+=1\n",
    "    elif((y_act[i]==0)&(y_pred[i]==0)):\n",
    "        tn+=1\n",
    "    elif((y_act[i]==0)&(y_pred[i]==1)):\n",
    "        fp+=1\n",
    "    elif((y_act[i]==1)&(y_pred[i]==0)):\n",
    "        fn+=1\n",
    "  return tp, tn, fp, fn"
   ]
  },
  {
   "cell_type": "code",
   "execution_count": 0,
   "metadata": {
    "colab": {},
    "colab_type": "code",
    "id": "nCQkEGo5LwGY"
   },
   "outputs": [],
   "source": [
    "def compute_accuracy(tp,tn,fn,fp):\n",
    "  return ((tp+tn)*100)/float(tp+tn+fn+fp)"
   ]
  },
  {
   "cell_type": "code",
   "execution_count": 41,
   "metadata": {
    "colab": {
     "base_uri": "https://localhost:8080/",
     "height": 35
    },
    "colab_type": "code",
    "executionInfo": {
     "elapsed": 1810,
     "status": "ok",
     "timestamp": 1587995466939,
     "user": {
      "displayName": "Simran sandhu",
      "photoUrl": "",
      "userId": "15531787810630485221"
     },
     "user_tz": -330
    },
    "id": "Lg5L273nMl_i",
    "outputId": "3ed79935-e786-4b12-d96a-9392449db81e"
   },
   "outputs": [
    {
     "name": "stdout",
     "output_type": "stream",
     "text": [
      "100.0\n"
     ]
    }
   ],
   "source": [
    "tp, tn, fp, fn = compute_tp_tn_fn_fp( df.iloc[:,3],df.predicted_output)\n",
    "print(compute_accuracy(tp,tn,fp,fn))"
   ]
  },
  {
   "cell_type": "code",
   "execution_count": 0,
   "metadata": {
    "colab": {},
    "colab_type": "code",
    "id": "0JjeGA1ROuMr"
   },
   "outputs": [],
   "source": [
    "def compute_precision(tp,fp):\n",
    "\treturn (tp*100)/float(tp+fp)"
   ]
  },
  {
   "cell_type": "code",
   "execution_count": 0,
   "metadata": {
    "colab": {},
    "colab_type": "code",
    "id": "1391h2eEOxEK"
   },
   "outputs": [],
   "source": [
    "def compute_recall(tp,fn):\n",
    "\treturn (tp*100)/float(tp+fn)"
   ]
  },
  {
   "cell_type": "code",
   "execution_count": 0,
   "metadata": {
    "colab": {},
    "colab_type": "code",
    "id": "34DmP_yRO4ie"
   },
   "outputs": [],
   "source": [
    "def compute_f1_score(y_true, y_pred):\n",
    "    tp,tn,fp,fn=compute_tp_tn_fn_fp(y_true, y_pred)\n",
    "    precision=compute_precision(tp,fp)/100\n",
    "    recall=compute_recall(tp,fn)/100\n",
    "    f1_score=(2*precision*recall)/(precision + recall)\n",
    "    return f1_score"
   ]
  },
  {
   "cell_type": "code",
   "execution_count": 45,
   "metadata": {
    "colab": {
     "base_uri": "https://localhost:8080/",
     "height": 35
    },
    "colab_type": "code",
    "executionInfo": {
     "elapsed": 1769,
     "status": "ok",
     "timestamp": 1587995466942,
     "user": {
      "displayName": "Simran sandhu",
      "photoUrl": "",
      "userId": "15531787810630485221"
     },
     "user_tz": -330
    },
    "id": "roAG0ff7PCqp",
    "outputId": "364889b3-9174-40d2-ca0a-d18e56bfffac"
   },
   "outputs": [
    {
     "name": "stdout",
     "output_type": "stream",
     "text": [
      "1.0\n"
     ]
    }
   ],
   "source": [
    "print(compute_f1_score(df.iloc[:,3],df.predicted_output))"
   ]
  },
  {
   "cell_type": "code",
   "execution_count": 0,
   "metadata": {
    "colab": {},
    "colab_type": "code",
    "id": "uMh3H8lKz8Tx"
   },
   "outputs": [],
   "source": [
    "import math\n",
    "cosa=w[0]/math.sqrt(w[0]**2+w[1]**2+w[2]**2)\n",
    "cosb=w[1]/math.sqrt(w[0]**2+w[1]**2+w[2]**2)\n",
    "cosc=w[2]/math.sqrt(w[0]**2+w[1]**2+w[2]**2)\n",
    "x1=projection_1*cosa\n",
    "x2=projection_2*cosa\n",
    "y1=projection_1*cosb\n",
    "y2=projection_2*cosb\n",
    "z1=projection_1*cosc\n",
    "z2=projection_2*cosc"
   ]
  },
  {
   "cell_type": "code",
   "execution_count": 48,
   "metadata": {
    "colab": {
     "base_uri": "https://localhost:8080/",
     "height": 35
    },
    "colab_type": "code",
    "executionInfo": {
     "elapsed": 1931,
     "status": "ok",
     "timestamp": 1587995906809,
     "user": {
      "displayName": "Simran sandhu",
      "photoUrl": "",
      "userId": "15531787810630485221"
     },
     "user_tz": -330
    },
    "id": "P-S33rzs7l5S",
    "outputId": "468e0ffc-9096-431a-ee67-025e3ccfcbd0"
   },
   "outputs": [
    {
     "data": {
      "text/plain": [
       "5"
      ]
     },
     "execution_count": 48,
     "metadata": {
      "tags": []
     },
     "output_type": "execute_result"
    }
   ],
   "source": [
    "len(df.columns)"
   ]
  },
  {
   "cell_type": "code",
   "execution_count": 47,
   "metadata": {
    "colab": {
     "base_uri": "https://localhost:8080/",
     "height": 248
    },
    "colab_type": "code",
    "executionInfo": {
     "elapsed": 2559,
     "status": "ok",
     "timestamp": 1587995467753,
     "user": {
      "displayName": "Simran sandhu",
      "photoUrl": "",
      "userId": "15531787810630485221"
     },
     "user_tz": -330
    },
    "id": "8YTaQeEBz9QC",
    "outputId": "e4288bf3-8dad-406f-d696-ae68c32756e5"
   },
   "outputs": [
    {
     "data": {
      "image/png": "[encoded data removed]",
      "text/plain": [
       "<Figure size 432x288 with 1 Axes>"
      ]
     },
     "metadata": {
      "needs_background": "light",
      "tags": []
     },
     "output_type": "display_data"
    }
   ],
   "source": [
    "import matplotlib.pyplot as plt\n",
    "from mpl_toolkits.mplot3d import Axes3D\n",
    "fig = plt.figure()\n",
    "ax = fig.add_subplot(111, projection='3d')\n",
    "ax.scatter(x1, y1, z1, zdir='z', s=20, c='red', depthshade=True)\n",
    "ax.scatter(x2, y2, z2, zdir='z', s=20, c='yellow', depthshade=True)\n",
    "plt.plot(x1,y1,z1,'-o')\n",
    "plt.plot(x2,y2,z2,'-o')\n",
    "fig.show()"
   ]
  }
 ],
 "metadata": {
  "colab": {
   "authorship_tag": "ABX9TyOG5F6t2wObO2piwYPhG+ab",
   "collapsed_sections": [],
   "name": "LDA2.ipynb",
   "provenance": []
  },
  "kernelspec": {
   "display_name": "Python 3",
   "language": "python",
   "name": "python3"
  },
  "language_info": {
   "codemirror_mode": {
    "name": "ipython",
    "version": 3
   },
   "file_extension": ".py",
   "mimetype": "text/x-python",
   "name": "python",
   "nbconvert_exporter": "python",
   "pygments_lexer": "ipython3",
   "version": "3.7.4"
  }
 },
 "nbformat": 4,
 "nbformat_minor": 1
}
